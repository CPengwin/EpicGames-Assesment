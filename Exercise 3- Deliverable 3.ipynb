{
 "cells": [
  {
   "cell_type": "code",
   "execution_count": 1,
   "id": "1befa0bf-5f59-419d-bd6f-5503b7e9e870",
   "metadata": {},
   "outputs": [],
   "source": [
    "import numpy as np\n",
    "import pandas as pd\n",
    "import statsmodels.formula.api as smf\n",
    "import statsmodels.api as sm\n",
    "import matplotlib.pyplot as plt\n",
    "import seaborn as sns\n",
    "\n",
    "\n",
    "from statsmodels.formula.api import rlm\n",
    "from scipy.stats import norm"
   ]
  },
  {
   "cell_type": "markdown",
   "id": "5eb0e840-cb47-4c93-bb9a-bccb2a94516d",
   "metadata": {},
   "source": [
    "# Introduction\n",
    "\n",
    "In this notebook we explore the state of a game with timelines of 2021 - 2023 and running regression models to determine stat sig on several variables given in the dataframe. This analysis/notebook will follow this format:\n",
    "\n",
    "1. Getting and cleaning the data.\n",
    "2. Plotting outliers and cleaning outliers\n",
    "3. Doing some OLS Regression and Robust Linear Regression Analysis on our data"
   ]
  },
  {
   "cell_type": "markdown",
   "id": "c7f20ba1-15c2-41ae-bfd9-51bd32b0d4d2",
   "metadata": {},
   "source": [
    "# Getting and Cleaning Data\n",
    "Here we get our data from two files given (Exercise 3 - Activity and Exercise 3 - Installs).\n",
    "\n",
    "For ease of anlaysis, I used an inner join on User_ID to merge the two csvs together"
   ]
  },
  {
   "cell_type": "code",
   "execution_count": 2,
   "id": "ba17863c-d732-4d59-8a40-7aba987da160",
   "metadata": {},
   "outputs": [],
   "source": [
    "# Load the CSV files into DataFrames\n",
    "matches_df = pd.read_csv('/Users/christopherpeng/Downloads/Take Home Assesment/Exercise_3_-_Activity.csv')  # Assuming the first CSV file\n",
    "installs_df = pd.read_csv('/Users/christopherpeng/Downloads/Take Home Assesment/Exercise_3_-_Installs.csv')  # Assuming the second CSV file\n",
    "\n",
    "# Merge the DataFrames on 'USER_ID'\n",
    "merged_df = pd.merge(matches_df, installs_df, on='USER_ID', how='inner')  # 'inner' keeps only matching USER_IDs\n",
    "\n",
    "# Save the merged DataFrame to a new CSV file\n",
    "merged_df.to_csv('Exercise_3_Merged.csv', index=False)\n"
   ]
  },
  {
   "cell_type": "code",
   "execution_count": 3,
   "id": "3cfa2a8c-849b-4063-bd68-d24b0a075b2a",
   "metadata": {},
   "outputs": [
    {
     "name": "stdout",
     "output_type": "stream",
     "text": [
      "Total Matches Started: 259638\n",
      "Total Matches Completed: 238878\n",
      "Total Matches Won: 12506\n",
      "Average Win Rate: 4.62%\n",
      "Player Retention Rate: 0.33%\n",
      "\n",
      "Matches by Country:\n",
      "     COUNTRY_CODE                                   USER_ID  MATCHES_STARTED  \\\n",
      "0              AE  08485607ad499e8c95841ef3cca912fe17ea9795              558   \n",
      "1              AE  08643cdfdcd3033e9465e29499f576e0943cd3c0               24   \n",
      "2              AE  468fc3d28fafd9e1ba8d409a2ec7fd954537a86c                2   \n",
      "3              AE  4e31274e6abc8f08ec8e831918a1d5d5f965a2c4               21   \n",
      "4              AE  620986152cac8d44c9e39e475c06ecd081bdfcef                9   \n",
      "...           ...                                       ...              ...   \n",
      "3593           ZA  686233cfed93592d7f9721785e04adba15a2c8da               19   \n",
      "3594           ZA  880d68c007e025141959d388475bcb29f9bf99a2              248   \n",
      "3595           ZA  add41df569604b53d62cd5a98de2bffef4965c01                8   \n",
      "3596           ZA  efa85ae9461f9d2178837db186c920f127f4a66a                9   \n",
      "3597           ZA  f539df691dd0f0adb9e2f6a47f096b81ebea6cd6               46   \n",
      "\n",
      "      MATCHES_COMPLETED  MATCHES_WON  AVG_WIN_RATE  RETENTION_RATE  \\\n",
      "0                   528           35      0.057453             0.0   \n",
      "1                    23            0      0.057453             0.0   \n",
      "2                     2            0      0.057453             0.0   \n",
      "3                    20            0      0.057453             0.0   \n",
      "4                     9            0      0.057453             0.0   \n",
      "...                 ...          ...           ...             ...   \n",
      "3593                 18            0      0.074919             0.0   \n",
      "3594                210           20      0.074919             0.0   \n",
      "3595                  8            0      0.074919             0.0   \n",
      "3596                  8            0      0.074919             0.0   \n",
      "3597                 45            1      0.074919             0.0   \n",
      "\n",
      "            INSTALL_DATE  PLAY_DATE  \n",
      "0    2021-04-18 15:45:00 2021-04-09  \n",
      "1    2021-04-18 15:45:00 2021-04-09  \n",
      "2    2021-04-18 15:45:00 2021-04-09  \n",
      "3    2021-04-18 15:45:00 2021-04-09  \n",
      "4    2021-04-18 15:45:00 2021-04-09  \n",
      "...                  ...        ...  \n",
      "3593 2021-03-24 13:11:00 2021-03-24  \n",
      "3594 2021-03-24 13:11:00 2021-03-24  \n",
      "3595 2021-03-24 13:11:00 2021-03-24  \n",
      "3596 2021-03-24 13:11:00 2021-03-24  \n",
      "3597 2021-03-24 13:11:00 2021-03-24  \n",
      "\n",
      "[3598 rows x 9 columns]\n"
     ]
    }
   ],
   "source": [
    "data = pd.read_csv('/Users/christopherpeng/Documents/Python Scripts/Exercise_3_Merged.csv')\n",
    "\n",
    "# Convert dates to datetime format\n",
    "data['INSTALL_DATE'] = pd.to_datetime(data['INSTALL_DATE'])\n",
    "data['PLAY_DATE'] = pd.to_datetime(data['PLAY_DATE'])\n",
    "\n",
    "# Check if COUNTRY_CODE exists in the dataset\n",
    "if 'COUNTRY_CODE' not in data.columns:\n",
    "    raise KeyError(\"COUNTRY_CODE not found in the dataset\")\n",
    "\n",
    "# Basic metrics: Total matches started, completed, and won\n",
    "total_matches_started = data['MATCHES_STARTED'].sum()\n",
    "total_matches_completed = data['MATCHES_COMPLETED'].sum()\n",
    "total_matches_won = data['MATCHES_WON'].sum()\n",
    "\n",
    "# Average win rate (matches won / matches completed)\n",
    "data['WIN_RATE'] = data['MATCHES_WON'] / data['MATCHES_COMPLETED']\n",
    "avg_win_rate = data['WIN_RATE'].mean()\n",
    "\n",
    "# Player retention: Number of players returning after the first day\n",
    "first_play_dates = data.groupby('USER_ID')['PLAY_DATE'].min()\n",
    "install_dates = data.drop_duplicates(subset='USER_ID')[['USER_ID', 'INSTALL_DATE', 'COUNTRY_CODE']].set_index('USER_ID')\n",
    "\n",
    "# Ensure COUNTRY_CODE is carried over to merged_dates\n",
    "merged_dates = install_dates.join(first_play_dates, how='inner', rsuffix='_first_play')\n",
    "\n",
    "# Check if COUNTRY_CODE exists in merged_dates\n",
    "if 'COUNTRY_CODE' not in merged_dates.columns:\n",
    "    raise KeyError(\"COUNTRY_CODE not found in merged_dates\")\n",
    "\n",
    "# Calculate retained players by country\n",
    "retained_players = merged_dates[merged_dates['PLAY_DATE'] > merged_dates['INSTALL_DATE']].shape[0]\n",
    "total_players = merged_dates.shape[0]\n",
    "retention_rate = retained_players / total_players\n",
    "\n",
    "# Matches per country, retaining USER_ID\n",
    "matches_by_country = data.groupby(['COUNTRY_CODE', 'USER_ID']).agg({\n",
    "    'MATCHES_STARTED': 'sum',\n",
    "    'MATCHES_COMPLETED': 'sum',\n",
    "    'MATCHES_WON': 'sum'\n",
    "}).reset_index()  # Reset index to ensure COUNTRY_CODE and USER_ID are in columns\n",
    "\n",
    "# Calculate win rate per country\n",
    "win_rate_by_country = data.groupby('COUNTRY_CODE').apply(\n",
    "    lambda x: (x['MATCHES_WON'].sum() / x['MATCHES_COMPLETED'].sum()) if x['MATCHES_COMPLETED'].sum() > 0 else 0\n",
    ").reset_index()\n",
    "win_rate_by_country.columns = ['COUNTRY_CODE', 'AVG_WIN_RATE']\n",
    "\n",
    "# Calculate player retention by country\n",
    "retention_by_country = merged_dates.groupby('COUNTRY_CODE').apply(\n",
    "    lambda x: (x['PLAY_DATE'] > x['INSTALL_DATE']).sum() / x.shape[0]\n",
    ").reset_index()\n",
    "retention_by_country.columns = ['COUNTRY_CODE', 'RETENTION_RATE']\n",
    "\n",
    "# Aggregate INSTALL_DATE and PLAY_DATE by taking the earliest dates by country\n",
    "install_play_dates_by_country = data.groupby('COUNTRY_CODE').agg({\n",
    "    'INSTALL_DATE': 'min',\n",
    "    'PLAY_DATE': 'min'\n",
    "}).reset_index()\n",
    "\n",
    "# Merge win rate, retention rate, and dates with matches data\n",
    "matches_by_country = matches_by_country.merge(win_rate_by_country, on='COUNTRY_CODE', how='left')\n",
    "matches_by_country = matches_by_country.merge(retention_by_country, on='COUNTRY_CODE', how='left')\n",
    "matches_by_country = matches_by_country.merge(install_play_dates_by_country, on='COUNTRY_CODE', how='left')\n",
    "\n",
    "# Print summary\n",
    "print(f\"Total Matches Started: {total_matches_started}\")\n",
    "print(f\"Total Matches Completed: {total_matches_completed}\")\n",
    "print(f\"Total Matches Won: {total_matches_won}\")\n",
    "print(f\"Average Win Rate: {avg_win_rate:.2%}\")\n",
    "print(f\"Player Retention Rate: {retention_rate:.2%}\")\n",
    "\n",
    "print(\"\\nMatches by Country:\")\n",
    "print(matches_by_country)"
   ]
  },
  {
   "cell_type": "markdown",
   "id": "4351226c-b954-4f2f-a51c-cbb796d7ab8c",
   "metadata": {},
   "source": [
    "# Data Analysis\n",
    "In the cells above we created a dataframe where we mapped out AVG_WIN_RATE and RETENTION_RATE. Now we want plot out our data to visualize outliers.\n",
    "\n",
    "The data in each column will represent for each day:\n",
    "1. What was the average win rate ([\"matches_won\"][\"sum\"] / [\"matches_completed\"][\"sum\"])\n",
    "2. Mapping out Player Initial Play Date ([\"USER_ID\")(['PLAY_DATE'])[\"sum\"]\n",
    "3. Mapping out Player Initial Install Date (['USER_ID', 'INSTALL_DATE', 'COUNTRY_CODE']])\n",
    "4. What was the retention rate ([\"retained_players\"][\"sum\"] / [\"total_players\"][\"sum\"])"
   ]
  },
  {
   "cell_type": "code",
   "execution_count": 4,
   "id": "be17b31e-4be8-4930-a770-ea1859b3c859",
   "metadata": {},
   "outputs": [
    {
     "data": {
      "image/png": "[encoded data removed]",
      "text/plain": [
       "<Figure size 1000x600 with 1 Axes>"
      ]
     },
     "metadata": {},
     "output_type": "display_data"
    }
   ],
   "source": [
    "# Plot boxplots to visualize outliers\n",
    "plt.figure(figsize=(10, 6))\n",
    "sns.boxplot(data=data[['MATCHES_STARTED', 'MATCHES_COMPLETED', 'MATCHES_WON']])\n",
    "plt.title('Box Plot for Matches Data (Detecting Outliers)')\n",
    "plt.show()\n",
    "\n",
    "#results show many outliers within the data"
   ]
  },
  {
   "cell_type": "code",
   "execution_count": 5,
   "id": "e1d09ece-3c1e-4a8a-a375-8e4f47fb204c",
   "metadata": {},
   "outputs": [],
   "source": [
    "def detect_discrete_outliers(data):\n",
    "    threshold = 3\n",
    "    mean = data.mean()\n",
    "    std = data.std()\n",
    "    z_score = (data - mean)/std \n",
    "    outliers = abs(z_score) > threshold\n",
    "\n",
    "    return outliers\n",
    "#function to get rid of outliers"
   ]
  },
  {
   "cell_type": "code",
   "execution_count": 6,
   "id": "641c0be3-6d35-401f-8adc-a9899e90d4bd",
   "metadata": {},
   "outputs": [],
   "source": [
    "detect_discrete_outliers(data['MATCHES_STARTED'])\n",
    "data = data[~detect_discrete_outliers(data['MATCHES_STARTED'])]\n",
    "#using outlier function on MATCHES_STARTED\n",
    "\n",
    "detect_discrete_outliers(data['MATCHES_COMPLETED'])\n",
    "data = data[~detect_discrete_outliers(data['MATCHES_COMPLETED'])]\n",
    "#using outlier function on MATCHES_COMPLETED\n",
    "\n",
    "detect_discrete_outliers(data['MATCHES_WON'])\n",
    "data = data[~detect_discrete_outliers(data['MATCHES_WON'])]\n",
    "#using outlier function on MATCHES_WON\n"
   ]
  },
  {
   "cell_type": "code",
   "execution_count": 7,
   "id": "d675610a-f027-45da-903b-3735d930cd3f",
   "metadata": {},
   "outputs": [
    {
     "data": {
      "image/png": "[encoded data removed]",
      "text/plain": [
       "<Figure size 1000x600 with 1 Axes>"
      ]
     },
     "metadata": {},
     "output_type": "display_data"
    }
   ],
   "source": [
    "# Plot boxplots to visualize data after cleaning outliers\n",
    "plt.figure(figsize=(10, 6))\n",
    "sns.boxplot(data=data[['MATCHES_STARTED', 'MATCHES_COMPLETED', 'MATCHES_WON']])\n",
    "plt.title('Box Plot for Matches Data (Detecting Outliers)')\n",
    "plt.show()\n",
    "\n",
    "#results showcase most outliers detected were removed"
   ]
  },
  {
   "cell_type": "code",
   "execution_count": 8,
   "id": "edfca67b-b9eb-4dfe-9e05-12a5929951f7",
   "metadata": {},
   "outputs": [
    {
     "name": "stdout",
     "output_type": "stream",
     "text": [
      "Total Matches Started: 259638\n",
      "Total Matches Completed: 238878\n",
      "Total Matches Won: 12506\n",
      "Average Win Rate: 4.62%\n",
      "Player Retention Rate: 0.33%\n"
     ]
    }
   ],
   "source": [
    "# Print summary after outlier functions\n",
    "print(f\"Total Matches Started: {total_matches_started}\")\n",
    "print(f\"Total Matches Completed: {total_matches_completed}\")\n",
    "print(f\"Total Matches Won: {total_matches_won}\")\n",
    "print(f\"Average Win Rate: {avg_win_rate:.2%}\")\n",
    "print(f\"Player Retention Rate: {retention_rate:.2%}\")\n",
    "\n",
    "# Export cleaned data to CSV for visualizations in Tableau\n",
    "matches_by_country.to_csv('matches_by_country.csv', index=False)\n"
   ]
  },
  {
   "cell_type": "code",
   "execution_count": 9,
   "id": "86eb19e8-17dc-4c8f-941a-b1931eacfec2",
   "metadata": {},
   "outputs": [
    {
     "name": "stdout",
     "output_type": "stream",
     "text": [
      "No. of training examples: 30497\n",
      "No. of testing examples: 13070\n"
     ]
    }
   ],
   "source": [
    "training_data = data.sample(frac=0.7, random_state=25)\n",
    "testing_data = data.drop(training_data.index)\n",
    "\n",
    "print(f\"No. of training examples: {training_data.shape[0]}\")\n",
    "print(f\"No. of testing examples: {testing_data.shape[0]}\")\n",
    "#spliting testing and training data with a 70/30 percentage and at a random state"
   ]
  },
  {
   "cell_type": "code",
   "execution_count": 10,
   "id": "dc3775a6-1045-438e-b09f-e8ac5e05b39d",
   "metadata": {},
   "outputs": [
    {
     "data": {
      "text/html": [
       "<div>\n",
       "<style scoped>\n",
       "    .dataframe tbody tr th:only-of-type {\n",
       "        vertical-align: middle;\n",
       "    }\n",
       "\n",
       "    .dataframe tbody tr th {\n",
       "        vertical-align: top;\n",
       "    }\n",
       "\n",
       "    .dataframe thead th {\n",
       "        text-align: right;\n",
       "    }\n",
       "</style>\n",
       "<table border=\"1\" class=\"dataframe\">\n",
       "  <thead>\n",
       "    <tr style=\"text-align: right;\">\n",
       "      <th></th>\n",
       "      <th>USER_ID</th>\n",
       "      <th>PLAY_DATE</th>\n",
       "      <th>MATCHES_STARTED</th>\n",
       "      <th>MATCHES_COMPLETED</th>\n",
       "      <th>MATCHES_WON</th>\n",
       "      <th>INSTALL_DATE</th>\n",
       "      <th>COUNTRY_CODE</th>\n",
       "      <th>WIN_RATE</th>\n",
       "    </tr>\n",
       "  </thead>\n",
       "  <tbody>\n",
       "    <tr>\n",
       "      <th>21141</th>\n",
       "      <td>383ec2d3f8a554d007e853263b940c7c5445d34d</td>\n",
       "      <td>2022-06-24</td>\n",
       "      <td>2</td>\n",
       "      <td>2</td>\n",
       "      <td>0</td>\n",
       "      <td>2021-03-09</td>\n",
       "      <td>ES</td>\n",
       "      <td>0.000</td>\n",
       "    </tr>\n",
       "    <tr>\n",
       "      <th>11277</th>\n",
       "      <td>d1434f95bd6eff21533bfa3794176f6e661b395c</td>\n",
       "      <td>2021-05-15</td>\n",
       "      <td>8</td>\n",
       "      <td>8</td>\n",
       "      <td>1</td>\n",
       "      <td>2021-01-24</td>\n",
       "      <td>NO</td>\n",
       "      <td>0.125</td>\n",
       "    </tr>\n",
       "  </tbody>\n",
       "</table>\n",
       "</div>"
      ],
      "text/plain": [
       "                                        USER_ID  PLAY_DATE  MATCHES_STARTED  \\\n",
       "21141  383ec2d3f8a554d007e853263b940c7c5445d34d 2022-06-24                2   \n",
       "11277  d1434f95bd6eff21533bfa3794176f6e661b395c 2021-05-15                8   \n",
       "\n",
       "       MATCHES_COMPLETED  MATCHES_WON INSTALL_DATE COUNTRY_CODE  WIN_RATE  \n",
       "21141                  2            0   2021-03-09           ES     0.000  \n",
       "11277                  8            1   2021-01-24           NO     0.125  "
      ]
     },
     "execution_count": 10,
     "metadata": {},
     "output_type": "execute_result"
    }
   ],
   "source": [
    "training_data.head(2)"
   ]
  },
  {
   "cell_type": "code",
   "execution_count": 16,
   "id": "dfd9b120-248c-4ee9-b6d4-ad3247cef581",
   "metadata": {},
   "outputs": [
    {
     "name": "stdout",
     "output_type": "stream",
     "text": [
      "                            OLS Regression Results                            \n",
      "==============================================================================\n",
      "Dep. Variable:        MATCHES_STARTED   R-squared:                       0.941\n",
      "Model:                            OLS   Adj. R-squared:                  0.941\n",
      "Method:                 Least Squares   F-statistic:                 1.069e+05\n",
      "Date:                Wed, 09 Oct 2024   Prob (F-statistic):               0.00\n",
      "Time:                        18:48:15   Log-Likelihood:                -38113.\n",
      "No. Observations:               26705   AIC:                         7.624e+04\n",
      "Df Residuals:                   26700   BIC:                         7.628e+04\n",
      "Df Model:                           4                                         \n",
      "Covariance Type:            nonrobust                                         \n",
      "=====================================================================================\n",
      "                        coef    std err          t      P>|t|      [0.025      0.975]\n",
      "-------------------------------------------------------------------------------------\n",
      "Intercept             0.1114      0.016      6.947      0.000       0.080       0.143\n",
      "MATCHES_COMPLETED     1.0449      0.002    611.223      0.000       1.042       1.048\n",
      "MATCHES_WON           0.0577      0.022      2.618      0.009       0.014       0.101\n",
      "WIN_RATE              0.0670      0.071      0.944      0.345      -0.072       0.206\n",
      "retention_rate        0.0528      0.015      3.416      0.001       0.022       0.083\n",
      "==============================================================================\n",
      "Omnibus:                    31593.049   Durbin-Watson:                   2.006\n",
      "Prob(Omnibus):                  0.000   Jarque-Bera (JB):          5154096.385\n",
      "Skew:                           6.203   Prob(JB):                         0.00\n",
      "Kurtosis:                      69.919   Cond. No.                         72.4\n",
      "==============================================================================\n",
      "\n",
      "Notes:\n",
      "[1] Standard Errors assume that the covariance matrix of the errors is correctly specified.\n"
     ]
    }
   ],
   "source": [
    "ols_results = smf.ols('MATCHES_STARTED~ + MATCHES_COMPLETED + MATCHES_WON + WIN_RATE + retention_rate',\n",
    "                      data = training_data).fit()\n",
    "print(ols_results.summary())\n",
    "#ols regression to determine how fit the model is (R^2) with \"Matches Started\" as the independent variable to determine how much the other dependent variables affect a match to start\n",
    "\n",
    "#results showcase a high fit of the model since R^2 is close to 1 indicating that the independent and dependent variables are highly correlated"
   ]
  },
  {
   "cell_type": "code",
   "execution_count": 17,
   "id": "4db3e141-360d-406e-8f62-dc387b519c44",
   "metadata": {},
   "outputs": [
    {
     "name": "stdout",
     "output_type": "stream",
     "text": [
      "                            OLS Regression Results                            \n",
      "==============================================================================\n",
      "Dep. Variable:        MATCHES_STARTED   R-squared:                       0.949\n",
      "Model:                            OLS   Adj. R-squared:                  0.949\n",
      "Method:                 Least Squares   F-statistic:                 5.308e+04\n",
      "Date:                Wed, 09 Oct 2024   Prob (F-statistic):               0.00\n",
      "Time:                        18:48:17   Log-Likelihood:                -15441.\n",
      "No. Observations:               11477   AIC:                         3.089e+04\n",
      "Df Residuals:                   11472   BIC:                         3.093e+04\n",
      "Df Model:                           4                                         \n",
      "Covariance Type:            nonrobust                                         \n",
      "=====================================================================================\n",
      "                        coef    std err          t      P>|t|      [0.025      0.975]\n",
      "-------------------------------------------------------------------------------------\n",
      "Intercept             0.0798      0.022      3.577      0.000       0.036       0.124\n",
      "MATCHES_COMPLETED     1.0516      0.002    429.939      0.000       1.047       1.056\n",
      "MATCHES_WON           0.0310      0.031      1.002      0.317      -0.030       0.092\n",
      "WIN_RATE              0.1895      0.101      1.877      0.061      -0.008       0.387\n",
      "retention_rate        0.0489      0.022      2.269      0.023       0.007       0.091\n",
      "==============================================================================\n",
      "Omnibus:                    11404.859   Durbin-Watson:                   1.878\n",
      "Prob(Omnibus):                  0.000   Jarque-Bera (JB):           775700.921\n",
      "Skew:                           4.831   Prob(JB):                         0.00\n",
      "Kurtosis:                      42.099   Cond. No.                         72.7\n",
      "==============================================================================\n",
      "\n",
      "Notes:\n",
      "[1] Standard Errors assume that the covariance matrix of the errors is correctly specified.\n"
     ]
    }
   ],
   "source": [
    "ols_results = smf.ols('MATCHES_STARTED~ + MATCHES_COMPLETED + MATCHES_WON + WIN_RATE + retention_rate',\n",
    "                      data = testing_data).fit()\n",
    "print(ols_results.summary())\n",
    "#running another OLS regression on testing data for final results\n",
    "\n",
    "#results indicate that all dependent variables besides \"Matches_Won\" are statistically significant for the model"
   ]
  },
  {
   "cell_type": "markdown",
   "id": "d46bab8b-b614-4b41-95e9-4a89e2253068",
   "metadata": {},
   "source": [
    "# RESULTS INTERPRETATION:\n",
    "1. MATCHES_STARTED: The intercept is statistically significant at the 1% level (p < 0.01), suggesting that when all other variables are zero, the predicted value of MATCHES_STARTED is 0.0798. This could represent baseline matches started in the absence of the other factors.\n",
    "2. MATCHES_COMPLETED: For each additional match completed, the number of matches started increases by approximately 1.0516, holding other variables constant. This effect is highly significant (p < 0.01), meaning MATCHES_COMPLETED is a strong predictor of MATCHES_STARTED.\n",
    "3. MATCHES_WON: For each additional match won, matches started increase by 0.031, but this effect is not statistically significant (p = 0.317). The confidence interval (-0.030 to 0.092) crosses zero, suggesting that MATCHES_WON doesn't have a reliable effect on matches started.\n",
    "4. WIN_RATE: A 1% increase in win rate is associated with an increase of 0.1895 in matches started. The p-value (0.061) is marginally significant (close to 0.05), indicating that WIN_RATE may have some influence on MATCHES_STARTED, but the evidence isn't very strong. The confidence interval also includes zero (-0.008 to 0.387).\n",
    "5. Retention_Rate: A 1% increase in retention rate is associated with an increase of 0.0489 in matches started. This effect is statistically significant (p = 0.023), suggesting that higher retention rates are positively associated with more matches being started."
   ]
  },
  {
   "cell_type": "code",
   "execution_count": 18,
   "id": "efe66fcb-fc97-4220-85a3-47ad6738f453",
   "metadata": {},
   "outputs": [
    {
     "name": "stdout",
     "output_type": "stream",
     "text": [
      "                    Robust linear Model Regression Results                    \n",
      "==============================================================================\n",
      "Dep. Variable:        MATCHES_STARTED   No. Observations:                11477\n",
      "Model:                            RLM   Df Residuals:                    11472\n",
      "Method:                          IRLS   Df Model:                            4\n",
      "Norm:                   TukeyBiweight                                         \n",
      "Scale Est.:                       mad                                         \n",
      "Cov Type:                          H1                                         \n",
      "Date:                Wed, 09 Oct 2024                                         \n",
      "Time:                        18:48:19                                         \n",
      "No. Iterations:                    50                                         \n",
      "=====================================================================================\n",
      "                        coef    std err          z      P>|z|      [0.025      0.975]\n",
      "-------------------------------------------------------------------------------------\n",
      "Intercept         -9.109e-14   8.03e-15    -11.347      0.000   -1.07e-13   -7.54e-14\n",
      "MATCHES_COMPLETED     1.0000    8.8e-16   1.14e+15      0.000       1.000       1.000\n",
      "MATCHES_WON       -2.137e-15   1.11e-14     -0.192      0.848    -2.4e-14    1.97e-14\n",
      "WIN_RATE          -1.055e-14   3.63e-14     -0.290      0.771   -8.17e-14    6.06e-14\n",
      "retention_rate    -2.728e-14   7.75e-15     -3.521      0.000   -4.25e-14   -1.21e-14\n",
      "=====================================================================================\n",
      "\n",
      "If the model instance has been used for another fit with different fit parameters, then the fit options might not be the correct ones anymore .\n"
     ]
    }
   ],
   "source": [
    "#Using robust regression to correct for outliers\n",
    "rob_crime_model = rlm(\"MATCHES_STARTED~ + MATCHES_COMPLETED + MATCHES_WON + WIN_RATE + retention_rate\", data=testing_data, \n",
    "M=sm.robust.norms.TukeyBiweight(3),).fit(conv=\"weights\")\n",
    "print(rob_crime_model.summary())\n",
    "#rob crime linear model with testing data for final regression when accounting for outliers and heteroscedasticity"
   ]
  },
  {
   "cell_type": "markdown",
   "id": "f6170f08-19b3-4dc8-8a56-78389cf67ec5",
   "metadata": {},
   "source": [
    "# RESULTS INTERPRETATION:\n",
    "1. Matches_Started: The intercept is highly statistically significant (p < 0.01), but the coefficient is extremely close to zero. This suggests that when all predictor variables are zero, the number of matches started is effectively zero. The small magnitude of the coefficient (close to zero) reflects a negligible baseline value for MATCHES_STARTED when other variables are at their baseline.\n",
    "2. Matches_Completed: MATCHES_COMPLETED is a perfect predictor of MATCHES_STARTED with a coefficient of exactly 1. This means that for every match completed, exactly one match is started. The statistical significance (p < 0.01) and the extremely large t-value (1.14e+15) reflect the near-perfect relationship between these two variables, suggesting they are closely tied or even collinear.\n",
    "3. Matches_Won: The coefficient is very close to zero, and the p-value is high (0.848), indicating that MATCHES_WON has no significant relationship with MATCHES_STARTED. The confidence interval also crosses zero, further supporting the lack of any meaningful effect.\n",
    "4. Win_Rate: WIN_RATE also has a coefficient very close to zero and is not statistically significant (p = 0.771). This indicates that changes in the win rate do not meaningfully impact MATCHES_STARTED. The confidence interval also includes zero, reinforcing the lack of effect.\n",
    "5. Retention_Rate: The coefficient is negative and statistically significant (p < 0.01), indicating that higher retention_rate is associated with a decrease in MATCHES_STARTED. Although the effect size is small, the robust model suggests that even this slight negative relationship is significant. This could indicate that there is a nuanced, negative correlation between retention and matches started, although the small magnitude suggests it is a minimal impact."
   ]
  },
  {
   "cell_type": "markdown",
   "id": "6ed7e996-21ac-4355-b25a-46280999e655",
   "metadata": {},
   "source": [
    "# Conclusion:\n",
    "The OLS model was likely influenced by outliers or data points with higher residuals, which may have skewed some of the coefficient estimates (especially for MATCHES_COMPLETED and retention_rate).\n",
    "\n",
    "Robust Linear Model provided more pecise estimates by minimizing the effect of outliers, showing a perfect relationship  between MATCHES_COMPLETED and MATCHES_STARTED and suggesting that retention_rate has a negligible but slightly negative effect.\n",
    "\n",
    "Further analysis and visualizations can be found in the Tableau workbook attached."
   ]
  }
 ],
 "metadata": {
  "kernelspec": {
   "display_name": "Python 3 (ipykernel)",
   "language": "python",
   "name": "python3"
  },
  "language_info": {
   "codemirror_mode": {
    "name": "ipython",
    "version": 3
   },
   "file_extension": ".py",
   "mimetype": "text/x-python",
   "name": "python",
   "nbconvert_exporter": "python",
   "pygments_lexer": "ipython3",
   "version": "3.9.13"
  }
 },
 "nbformat": 4,
 "nbformat_minor": 5
}
